{
 "cells": [
  {
   "cell_type": "markdown",
   "id": "ee15cdb6",
   "metadata": {},
   "source": [
    "#### OPERATING SYSTEM COMMANDS\n",
    "\n",
    "Some useful operation system commands for the rest of this lesson:\n",
    "Mac/unix/Linix\n",
    "\n",
    "pwd        prints the current working directory\n",
    "ls         lists the files in the current directory (options -l, -F, -a, -A)\n",
    "\n",
    "Windows\n",
    "\n",
    "- cd ,       prints the current working directory\n",
    "- dir        lists the files in the current directory (one column)\n",
    "- dir/w      lists the files in the directory \"wide\" (multi-column)\n",
    "\n",
    "In an IPython window you can execute many operating system commands by\n",
    "putting an ! in front of them. On my Windows pc, the above Unix style commands work without the ! in front.\n",
    "\n",
    "These might be helpful when reading and writing files, because you either have to give the full directory path or assume the file is in the current working directory and use a relative path. '!cd ,' or '!pwd' will show you what the current working directory is.\n",
    "\n",
    "##### In Spyder IDE\n",
    "\n",
    "There is a button to the right of the Global Working Directory (this is the path displayed in the upper right of the toolbar) to set the displayed path as the current working directory. "
   ]
  },
  {
   "cell_type": "markdown",
   "id": "5b84187f",
   "metadata": {},
   "source": [
    "### READING AND WRITING TEXT FILES "
   ]
  },
  {
   "cell_type": "markdown",
   "id": "16295f26",
   "metadata": {},
   "source": [
    "Reading/writing files summary:\n",
    "\n",
    "infile = open(filename)  # For reading. Also infile = open(filename,'r')\n",
    "\n",
    "infile.close()\n",
    "\n",
    "outfile = open(filename,\"w\")  \"Open for writing\n",
    "\n",
    "outfile.write(\"string to write\")\n",
    "\n",
    "outfile.close()"
   ]
  },
  {
   "cell_type": "code",
   "execution_count": 1,
   "id": "1eeb6d8b",
   "metadata": {},
   "outputs": [],
   "source": [
    "def print_file(filename):\n",
    "    infile = open(filename)\n",
    "    for line in infile:\n",
    "        print(line, end=\"\")\n",
    "    infile.close()"
   ]
  },
  {
   "cell_type": "code",
   "execution_count": 10,
   "id": "0217b41d",
   "metadata": {},
   "outputs": [
    {
     "name": "stdout",
     "output_type": "stream",
     "text": [
      "Humpty Dumpty sat on a wall,\n",
      "Humpty Dumpty had a great fall.\n",
      "All the king's horses and all the king's men\n",
      "Couldn't put Humpty together again."
     ]
    }
   ],
   "source": [
    "print_file(\"HumptyDumpty.txt\")"
   ]
  },
  {
   "cell_type": "code",
   "execution_count": 16,
   "id": "ff01c63e",
   "metadata": {},
   "outputs": [],
   "source": [
    "def copy_file(infilename, outfilename):\n",
    "    infile = open(infilename)\n",
    "    outfile = open(outfilename, 'w')\n",
    "    for line in infile:\n",
    "        outfile.write(line)\n",
    "    infile.close()\n",
    "    outfile.close()\n",
    "        "
   ]
  },
  {
   "cell_type": "code",
   "execution_count": 17,
   "id": "b1afacf0",
   "metadata": {},
   "outputs": [],
   "source": [
    "copy_file('HumptyDumpty.txt', 'CopyHD.txt')"
   ]
  },
  {
   "cell_type": "markdown",
   "id": "48609e67",
   "metadata": {},
   "source": [
    "### Exercise:\n",
    "\n",
    "Write a function write_to_file(filename,myname,myage,major) that opens the file <filename> and writes 3 lines in it using the data given. Here is a sample of what could be in the file. Call the file 'namefile.txt', so that it is identifiable as a text file:\n",
    "\n",
    "My name is George\n",
    "    \n",
    "My age is 21\n",
    "    \n",
    "I am majoring in Physics\n",
    "    \n",
    "Tips: \n",
    "-- write() can take only a string and, in fact, only one. So whatever you write has to be put together into one string (using +, for example).\n",
    "-- Add +\"\\n\" on the end of each write to put a newline at the end of each line. Otherwise, everything will be jammed together on one line.\n",
    "-- Convert your age (a number) to a string -- use str() to do that. Then join it to the other parts of the string before writing.\n",
    "-- When running the function, use quotes around every argument except the number.\n",
    "\n",
    "Use notepad (on pc) or textedit (on Mac) to look at the file to confirm it. An outline of what needs to be done is given as comments."
   ]
  },
  {
   "cell_type": "code",
   "execution_count": 31,
   "id": "ced09e31",
   "metadata": {},
   "outputs": [],
   "source": [
    "def write_to_file(filename, myname, myage, major):\n",
    "    outfile = open(filename, 'w')\n",
    "    outfile.write(\"my name is \"  + myname + \"\\n\" )\n",
    "    outfile.write(\"My age is \"  + str(myage) + \"\\n\")\n",
    "    outfile.write(\"I am majoring in \"  + major)\n",
    "    outfile.close()\n",
    "    "
   ]
  },
  {
   "cell_type": "code",
   "execution_count": 32,
   "id": "a3bd6b9c",
   "metadata": {},
   "outputs": [],
   "source": [
    "write_to_file('namefile.txt', 'George', '21', 'Physics')"
   ]
  },
  {
   "cell_type": "markdown",
   "id": "cd6abb65",
   "metadata": {},
   "source": [
    "RUNNING STANDALONE SCRIPTS OR PROGAMS.\n",
    "\n",
    "So far we have been writing Python functions and running them. Now let's \n",
    "write a Python program (actually Python calls them 'scripts'). \n",
    "\n",
    "To run from command line open a command window in one of two ways:\n",
    "On windows, from the Start Menu, enter cmd.exe\n",
    "  -- in this case use cd to change to the directory with print_file.py in it\n",
    "or\n",
    "From Spyder, go to menu Tools>Open command prompt\n",
    "  -- in this case you should be sure that print_file.py is in the directory at \n",
    "  -- the top of the screen (Global working directory) or do as in the  \n",
    "  -- cmd.exe case and use cd to get there.\n",
    "\n",
    "Once you are in the correct directory, enter the following command at the\n",
    "\">\" prompt: python printfile.py <nameoffile to print>\n",
    "\n",
    "\"\"\"\n",
    "\"\"\"\n",
    "NOTE: SOME OF YOUR COMPUTERS MAY HAVE PYTHON 2.7 INSTALLED ON THEM.  THE PATHS \n",
    "ARE SET TO RUN VERSION 2.7. WITHOUT RESETTING THE PATH, THOSE COMPUTERS MAY\n",
    "ATTEMPT TO RUN PROGRAMS USING PYTHON 2.7 INSTEAD OF PYTHON 3.4. Macintoshes, \n",
    "for example, come with Python 2.7 installed and will have this issue. The \n",
    "following works from the Spyder Command prompt regardless, so we will use that.\n",
    "The environment can be set to python 3, but I'm not going into that right now."
   ]
  },
  {
   "cell_type": "code",
   "execution_count": 25,
   "id": "bef577dc",
   "metadata": {},
   "outputs": [],
   "source": [
    "def word_count(filename):\n",
    "    word_dict = {}\n",
    "    text_file = open(filename)\n",
    "    for line in text_file:\n",
    "        for word in line.lower().split():\n",
    "            word = word.strip(\"'?,.;!-/\\\"\")\n",
    "            if word not in word_dict:\n",
    "                word_dict[word] = 0\n",
    "            word_dict[word] = word_dict[word] + 1\n",
    "    print(word_dict)\n",
    "    text_file.close()\n",
    "    word_list = sorted(word_dict)\n",
    "    for word in word_list:\n",
    "        print(word_dict[word], word)\n"
   ]
  },
  {
   "cell_type": "code",
   "execution_count": 26,
   "id": "6ac10d02",
   "metadata": {},
   "outputs": [
    {
     "name": "stdout",
     "output_type": "stream",
     "text": [
      "{'humpty': 3, 'dumpty': 2, 'sat': 1, 'on': 1, 'a': 2, 'wall': 1, 'had': 1, 'great': 1, 'fall': 1, 'all': 2, 'the': 2, \"king's\": 2, 'horses': 1, 'and': 1, 'men': 1, \"couldn't\": 1, 'put': 1, 'together': 1, 'again': 1}\n",
      "2 a\n",
      "1 again\n",
      "2 all\n",
      "1 and\n",
      "1 couldn't\n",
      "2 dumpty\n",
      "1 fall\n",
      "1 great\n",
      "1 had\n",
      "1 horses\n",
      "3 humpty\n",
      "2 king's\n",
      "1 men\n",
      "1 on\n",
      "1 put\n",
      "1 sat\n",
      "2 the\n",
      "1 together\n",
      "1 wall\n"
     ]
    }
   ],
   "source": [
    "word_count(\"HumptyDumpty.txt\")"
   ]
  },
  {
   "cell_type": "markdown",
   "id": "c8540ccf",
   "metadata": {},
   "source": [
    "### Swap keys and values in a Python dictionary "
   ]
  },
  {
   "cell_type": "code",
   "execution_count": 30,
   "id": "64b577b5",
   "metadata": {},
   "outputs": [
    {
     "name": "stdout",
     "output_type": "stream",
     "text": [
      "{'a': 1, 'b': 2, 'c': 3, 'd': 4}\n",
      "{1: 'a', 2: 'b', 3: 'c', 4: 'd'}\n"
     ]
    }
   ],
   "source": [
    "dict = {\"a\":1, \"b\":2, \"c\":3, \"d\":4}\n",
    "dict_swap = {value:key for key, value in dict.items()}\n",
    "print(dict)\n",
    "print(dict_swap)"
   ]
  },
  {
   "cell_type": "code",
   "execution_count": 31,
   "id": "25d9bb61",
   "metadata": {},
   "outputs": [
    {
     "data": {
      "text/plain": [
       "dict_values(['a', 'b', 'c', 'd'])"
      ]
     },
     "execution_count": 31,
     "metadata": {},
     "output_type": "execute_result"
    }
   ],
   "source": [
    "dict_swap.values()"
   ]
  },
  {
   "cell_type": "code",
   "execution_count": 32,
   "id": "925e7033",
   "metadata": {},
   "outputs": [
    {
     "data": {
      "text/plain": [
       "dict_keys([1, 2, 3, 4])"
      ]
     },
     "execution_count": 32,
     "metadata": {},
     "output_type": "execute_result"
    }
   ],
   "source": [
    "dict_swap.keys()"
   ]
  },
  {
   "cell_type": "code",
   "execution_count": 33,
   "id": "1622bb22",
   "metadata": {},
   "outputs": [
    {
     "name": "stdout",
     "output_type": "stream",
     "text": [
      "1    a\n",
      "2    b\n",
      "3    c\n",
      "4    d\n"
     ]
    }
   ],
   "source": [
    "for i in dict_swap:\n",
    "    print(i, \"  \", dict_swap[i])"
   ]
  },
  {
   "cell_type": "code",
   "execution_count": 35,
   "id": "ac0e6857",
   "metadata": {},
   "outputs": [
    {
     "name": "stdout",
     "output_type": "stream",
     "text": [
      "Original dictionary is : \n",
      "{'A': 67, 'B': 23, 'C': 45, 'E': 12, 'F': 69, 'G': 67, 'H': 23}\n",
      "\n",
      "{67: ['A', 'G'], 23: ['B', 'H'], 45: ['C'], 12: ['E'], 69: ['F']}\n"
     ]
    }
   ],
   "source": [
    "# swap of key and value \n",
    "    \n",
    "# initializing dictionary \n",
    "old_dict = {'A': 67, 'B': 23, 'C': 45, \n",
    "            'E': 12, 'F': 69, 'G': 67, 'H': 23}\n",
    "  \n",
    "# Printing original dictionary \n",
    "print (\"Original dictionary is : \")\n",
    "print(old_dict) \n",
    "  \n",
    "print()\n",
    "new_dict = {}\n",
    "for key, value in old_dict.items():\n",
    "   if value in new_dict:\n",
    "       new_dict[value].append(key)\n",
    "   else:\n",
    "       new_dict[value]=[key]\n",
    "print(new_dict)"
   ]
  },
  {
   "cell_type": "code",
   "execution_count": 36,
   "id": "41362602",
   "metadata": {},
   "outputs": [
    {
     "name": "stdout",
     "output_type": "stream",
     "text": [
      "67    ['A', 'G']\n",
      "23    ['B', 'H']\n",
      "45    ['C']\n",
      "12    ['E']\n",
      "69    ['F']\n"
     ]
    }
   ],
   "source": [
    "for key in new_dict:\n",
    "    print(key, \"  \", new_dict[key])"
   ]
  },
  {
   "cell_type": "code",
   "execution_count": null,
   "id": "257a6330",
   "metadata": {},
   "outputs": [],
   "source": []
  }
 ],
 "metadata": {
  "kernelspec": {
   "display_name": "Python 3 (ipykernel)",
   "language": "python",
   "name": "python3"
  },
  "language_info": {
   "codemirror_mode": {
    "name": "ipython",
    "version": 3
   },
   "file_extension": ".py",
   "mimetype": "text/x-python",
   "name": "python",
   "nbconvert_exporter": "python",
   "pygments_lexer": "ipython3",
   "version": "3.9.7"
  }
 },
 "nbformat": 4,
 "nbformat_minor": 5
}
